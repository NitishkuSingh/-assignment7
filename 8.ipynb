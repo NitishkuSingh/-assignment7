{
 "cells": [
  {
   "cell_type": "markdown",
   "id": "ae5d04fb-c4e2-4503-8cb9-5f6abef88a27",
   "metadata": {},
   "source": [
    "Question 1. What is Flask Framework? What are the advantages of Flask Framework?\n"
   ]
  },
  {
   "cell_type": "markdown",
   "id": "e2d63594-09af-42b6-8e7b-08ee44d7fe91",
   "metadata": {},
   "source": [
    "Ans -\n",
    "Flask is a micro web framework for Python based on Werkzeug, Jinja2, and good intentions. It's designed to be lightweight and easy to use, allowing developers to quickly build web applications with minimal overhead. Here are some key advantages of Flask:\n",
    "\n",
    "Lightweight: Flask is minimalist in design, meaning it provides only the essential components for web development. This makes it easy to understand and quick to set up.\n",
    "\n",
    "Flexible: Flask doesn't impose any particular way of doing things, allowing developers to structure their applications as they see fit. It's highly customizable and can be easily extended with third-party libraries."
   ]
  },
  {
   "cell_type": "markdown",
   "id": "e215139f-ffff-41ca-ab88-e7429a4dcf7b",
   "metadata": {},
   "source": [
    "question 2. Create a simple Flask application to display ‘Hello World!!’. Attach the screenshot of the output in Jupyter Notebook."
   ]
  },
  {
   "cell_type": "code",
   "execution_count": null,
   "id": "f4e83bd9-9092-4d81-93e7-c431392dfa93",
   "metadata": {},
   "outputs": [],
   "source": [
    "# ans -\n",
    "from flask import Flask\n",
    "\n",
    "app = Flask(__name__)\n",
    "\n",
    "@app.route(\"/\")\n",
    "def hello_world():\n",
    "    return \"<h1>Hello, World!</h1>\"\n",
    "\n",
    "if __name__==\"__main__\":\n",
    "    app.run(host=\"0.0.0.0\")\n"
   ]
  },
  {
   "cell_type": "markdown",
   "id": "7395c0a6-a410-40d3-975e-f14f04aef498",
   "metadata": {},
   "source": [
    "Question - 3. What is App routing in Flask? Why do we use app routes?"
   ]
  },
  {
   "cell_type": "markdown",
   "id": "caabe59d-be42-4cc3-bfa5-ed00ec0652ae",
   "metadata": {},
   "source": [
    "In Flask, routing refers to the mechanism of mapping URLs (or routes) to the corresponding view functions that handle the requests. This is typically done using decorators provided by Flask (@app.route())."
   ]
  },
  {
   "cell_type": "markdown",
   "id": "2a15b763-c76d-4268-9047-4f5ccee56ad2",
   "metadata": {},
   "source": [
    "Quesion - 4. Create a “/welcome” route to display the welcome message “Welcome to ABC Corporation” and a “/” route to show the following details:\n",
    "Company Name: ABC Corporation\n",
    "Location: India\n",
    "Contact Detail: 999-999-9999"
   ]
  },
  {
   "cell_type": "code",
   "execution_count": null,
   "id": "3dd33ea2-0864-4710-9b46-6e9de3613ccb",
   "metadata": {},
   "outputs": [],
   "source": [
    "# Ans. \n",
    "from flask import Flask\n",
    "\n",
    "app = Flask(__name__)\n",
    "\n",
    "# Define route for /welcome\n",
    "@app.route('/welcome')\n",
    "def welcome():\n",
    "    return 'Welcome to ABC Corporation'\n",
    "\n",
    "# Define route for /\n",
    "@app.route('/')\n",
    "def company_details():\n",
    "    return \"\"\"Company Name: ABC Corporation\n",
    "    Location: India\n",
    "    Contact Detail: 999-999-9999\"\"\"\n",
    "\n",
    "if __name__ == '__main__':\n",
    "    app.run()\n"
   ]
  },
  {
   "cell_type": "markdown",
   "id": "f830b884-d9f5-4d7d-8bfa-dbcbc93f0fb6",
   "metadata": {},
   "source": [
    "Question 5. What function is used in Flask for URL Building? Write a Python code to demonstrate the working of the\n",
    "url_for() function."
   ]
  },
  {
   "cell_type": "code",
   "execution_count": null,
   "id": "8cb6bed0-2bf6-434c-9f6c-a3cbd20857d2",
   "metadata": {},
   "outputs": [],
   "source": []
  }
 ],
 "metadata": {
  "kernelspec": {
   "display_name": "Python 3 (ipykernel)",
   "language": "python",
   "name": "python3"
  },
  "language_info": {
   "codemirror_mode": {
    "name": "ipython",
    "version": 3
   },
   "file_extension": ".py",
   "mimetype": "text/x-python",
   "name": "python",
   "nbconvert_exporter": "python",
   "pygments_lexer": "ipython3",
   "version": "3.10.8"
  }
 },
 "nbformat": 4,
 "nbformat_minor": 5
}
